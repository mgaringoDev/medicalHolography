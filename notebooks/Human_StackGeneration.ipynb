{
 "cells": [
  {
   "cell_type": "markdown",
   "metadata": {},
   "source": [
    "# Table of Contents"
   ]
  },
  {
   "cell_type": "markdown",
   "metadata": {},
   "source": [
    "- [Introduction](#Introduction)\n",
    "- [Imports](#Imports)\n",
    "- [Functions](#Functions)\n",
    "    - [Reading Files](#Reading-Files)\n",
    "    - [Get Data Statistics](#Get-Data-Statistics)\n",
    "    - [Image Processing](#Image-Processing)\n",
    "    - [Model Generation](#Model-Generation)\n",
    "    - [Visualization](#Visualization)\n",
    "- [Parameters](#Parameters)\n",
    "- [Main](#Main)\n",
    "    - [Reading and clean the stack](#Reading-and-clean-the-stack)\n",
    "        - [MRI Raw](#MRI-Raw)\n",
    "        - [Stack Generation](#Stack-Generation)    "
   ]
  },
  {
   "cell_type": "markdown",
   "metadata": {},
   "source": [
    "# Introduction"
   ]
  },
  {
   "cell_type": "markdown",
   "metadata": {},
   "source": [
    "This memo explores the various techniques of threshold segmentation and post processing techniques such as opening and closing to obtain the segmented brain.  This document also generated 4 STL files one for each of the most salient aspects of the model.\n",
    "\n",
    "1. White Matter\n",
    "2. Gray Matter\n",
    "3. Tumor Component 1 - this is the outer layer of the tumor\n",
    "4. Tumor Component 2 - this is the inner layer of the tumor\n"
   ]
  },
  {
   "cell_type": "markdown",
   "metadata": {},
   "source": [
    "# Imports"
   ]
  },
  {
   "cell_type": "code",
   "execution_count": 1,
   "metadata": {},
   "outputs": [
    {
     "name": "stdout",
     "output_type": "stream",
     "text": [
      "Populating the interactive namespace from numpy and matplotlib\n"
     ]
    }
   ],
   "source": [
    "import os\n",
    "import numpy\n",
    "import SimpleITK\n",
    "\n",
    "import scipy.ndimage\n",
    "import scipy.misc\n",
    "import scipy.misc as scioM\n",
    "\n",
    "import matplotlib.pyplot as plt\n",
    "%pylab inline"
   ]
  },
  {
   "cell_type": "code",
   "execution_count": 2,
   "metadata": {},
   "outputs": [],
   "source": [
    "from os import listdir\n",
    "from os.path import isfile, join"
   ]
  },
  {
   "cell_type": "code",
   "execution_count": 38,
   "metadata": {},
   "outputs": [],
   "source": [
    "from skimage import measure\n",
    "from skimage import transform\n",
    "import skimage as skImg\n",
    "from skimage import morphology\n",
    "from skimage import filters\n",
    "from skimage import color, io, img_as_float\n",
    "# for this module the stl is now depricated\n",
    "# pip install numpy-stl\n",
    "from stl import mesh\n",
    "import imageio"
   ]
  },
  {
   "cell_type": "markdown",
   "metadata": {},
   "source": [
    "# Functions"
   ]
  },
  {
   "cell_type": "markdown",
   "metadata": {},
   "source": [
    "## Reading Files"
   ]
  },
  {
   "cell_type": "code",
   "execution_count": 4,
   "metadata": {},
   "outputs": [],
   "source": [
    "def readMRIFile(inpath):\n",
    "    # Read an MR file (.dcm,.nii,.mnc) and stores it in an ITK image stack file tensor\n",
    "    \n",
    "    reader = SimpleITK.ImageFileReader()\n",
    "    mriImage = SimpleITK.ReadImage(inpath)\n",
    "    return mriImage"
   ]
  },
  {
   "cell_type": "code",
   "execution_count": 5,
   "metadata": {},
   "outputs": [],
   "source": [
    "def convertToNP(itkImage):\n",
    "    # Converts the a single ITK image into a numpy array\n",
    "    \n",
    "    npArray = SimpleITK.GetArrayFromImage(itkImage)\n",
    "    return npArray    "
   ]
  },
  {
   "cell_type": "code",
   "execution_count": 6,
   "metadata": {},
   "outputs": [],
   "source": [
    "def applySmoothingMRI(singleMRIImage):\n",
    "    # Applys smoothing to an ITK image and returns an ITK image\n",
    "    \n",
    "    mriImageSmooth = SimpleITK.CurvatureFlow(image1=singleMRIImage,\n",
    "                                            timeStep=0.125,\n",
    "                                            numberOfIterations=5)   \n",
    "    return mriImageSmooth"
   ]
  },
  {
   "cell_type": "code",
   "execution_count": 7,
   "metadata": {},
   "outputs": [],
   "source": [
    "def readStackOfImage(imageStackDirectory):\n",
    "    # Get all file names in the firectory \n",
    "    onlyFiles = [f for f in listdir(imageStackDirectory) if isfile(join(imageStackDirectory, f))]\n",
    "    \n",
    "    # get sizes of each image\n",
    "    oneFile = imageStackDirectory + onlyFiles[0]\n",
    "    oneFileImage = scipy.ndimage.imread(oneFile)\n",
    "    [w,h] = oneFileImage.shape\n",
    "    \n",
    "    # Allocate variable for the image stack\n",
    "    numSlices = len(onlyFiles)\n",
    "    imageStack = np.zeros((w,h,numSlices))\n",
    "    \n",
    "    # Read and store image stack in an array\n",
    "    for sliceImageFile in onlyFiles:\n",
    "        imageStack[:,:,sliceInd] = scipy.ndimage.imread(sliceImageFile)\n",
    "    \n",
    "    return imageStack"
   ]
  },
  {
   "cell_type": "markdown",
   "metadata": {},
   "source": [
    "## Get Data Statistics"
   ]
  },
  {
   "cell_type": "code",
   "execution_count": 8,
   "metadata": {},
   "outputs": [],
   "source": [
    "def getDataStatistics(npArray):\n",
    "    [numSlices,width,height] = npArray.shape\n",
    "    print(\"The data contains {} slices with the image resolution being {} x {}\".format(numSlices,width,height))\n",
    "    \n",
    "    return [numSlices,width,height]"
   ]
  },
  {
   "cell_type": "markdown",
   "metadata": {},
   "source": [
    "## Image Processing"
   ]
  },
  {
   "cell_type": "code",
   "execution_count": 9,
   "metadata": {},
   "outputs": [],
   "source": [
    "def showSegmentation(sliceNum=90):\n",
    "    # Get slice\n",
    "    idxSlice = sliceNum\n",
    "    imgOriginal = image[:,:,idxSlice]\n",
    "\n",
    "    # Apply smoothing\n",
    "    imgSmooth = SimpleITK.CurvatureFlow(image1=imgOriginal,\n",
    "                                        timeStep=0.125,\n",
    "                                        numberOfIterations=5)\n",
    "    sitk_show(imgSmooth)\n",
    "\n",
    "    # Get segmentation\n",
    "    lstSeeds = [(75,60)]\n",
    "\n",
    "    imgWhiteMatter = SimpleITK.ConnectedThreshold(image1=imgSmooth, \n",
    "                                                  seedList=lstSeeds, \n",
    "                                                  lower=0, \n",
    "                                                  upper=40,\n",
    "                                                  replaceValue=labelWhiteMatter)\n",
    "\n",
    "    # Rescale 'imgSmooth' and cast it to an integer type to match that of 'imgWhiteMatter'\n",
    "    imgSmoothInt = SimpleITK.Cast(SimpleITK.RescaleIntensity(imgSmooth), imgWhiteMatter.GetPixelID())\n",
    "\n",
    "    # Use 'LabelOverlay' to overlay 'imgSmooth' and 'imgWhiteMatter'\n",
    "    sitk_show(SimpleITK.LabelOverlay(imgSmoothInt, imgWhiteMatter))\n",
    "\n",
    "    # show segmentation\n",
    "    sitk_show(imgWhiteMatter)"
   ]
  },
  {
   "cell_type": "code",
   "execution_count": 10,
   "metadata": {},
   "outputs": [],
   "source": [
    "def getMask(sliceImage,pxlRanges):\n",
    "#     sliceImage = np.copy(grayMatterMask[:,:,50])\n",
    "    xLen,yLen = np.shape(sliceImage)\n",
    "#     pxlRanges = grayMatterRange\n",
    "\n",
    "    sizeRange = len(pxlRanges)\n",
    "    \n",
    "    if(sizeRange==1):\n",
    "        sliceImage = np.round(sliceImage).astype(int)\n",
    "        for x in xrange(xLen):\n",
    "            for y in xrange(yLen):        \n",
    "                if(sliceImage[x,y] == pxlRanges[0]):                        \n",
    "                    sliceImage[x,y] = 1.0\n",
    "                else:\n",
    "                    sliceImage[x,y] = 0.0        \n",
    "    else:\n",
    "        lower = pxlRanges[0]\n",
    "        upper = pxlRanges[1]\n",
    "\n",
    "        for x in xrange(xLen):\n",
    "            for y in xrange(yLen):        \n",
    "                if(sliceImage[x,y]>=lower and sliceImage[x,y]<=upper):                        \n",
    "                    sliceImage[x,y] = 1.0\n",
    "                else:\n",
    "                    sliceImage[x,y] = 0.0\n",
    "    \n",
    "    return sliceImage"
   ]
  },
  {
   "cell_type": "code",
   "execution_count": 11,
   "metadata": {},
   "outputs": [],
   "source": [
    "def applyMorphFilters(img,erodeFilter,dilationFilter):\n",
    "    eroded = morphology.erosion(img,np.ones(erodeFilter))\n",
    "    dilation = morphology.dilation(eroded,np.ones(dilationFilter))    \n",
    "    return dilation"
   ]
  },
  {
   "cell_type": "markdown",
   "metadata": {},
   "source": [
    "## Model Generation"
   ]
  },
  {
   "cell_type": "code",
   "execution_count": 12,
   "metadata": {},
   "outputs": [],
   "source": [
    "def make_mesh(image, threshold=-100, step_size=1):\n",
    "    # Generates a mesh from a stack of images (image variable)\n",
    "    \n",
    "    print \"Transposing surface\"\n",
    "    p = image.transpose(2,1,0)\n",
    "    \n",
    "    print \"Calculating surface\"\n",
    "    try:\n",
    "        verts, faces = measure.marching_cubes(p, threshold) \n",
    "    except:\n",
    "        verts, faces = measure.marching_cubes_classic(p, threshold)         \n",
    "    return verts, faces"
   ]
  },
  {
   "cell_type": "code",
   "execution_count": 13,
   "metadata": {},
   "outputs": [],
   "source": [
    "def make_meshNew(image, threshold=-100, step_size=1):\n",
    "    # Generates a mesh from a stack of images (image variable)\n",
    "    \n",
    "    print \"Transposing surface\"\n",
    "#     p = image.transpose(2,1,0)\n",
    "    p=image\n",
    "    \n",
    "    print \"Calculating surface\"\n",
    "    try:\n",
    "        if(threshold==0.0):\n",
    "            verts, faces = measure.marching_cubes(p) \n",
    "        else:            \n",
    "            verts, faces = measure.marching_cubes(p, threshold) \n",
    "    except:\n",
    "        if(threshold==0.0):\n",
    "            verts, faces = measure.marching_cubes_classic(p)         \n",
    "        else:\n",
    "            verts, faces = measure.marching_cubes_classic(p, threshold)         \n",
    "    return verts, faces"
   ]
  },
  {
   "cell_type": "code",
   "execution_count": 14,
   "metadata": {},
   "outputs": [],
   "source": [
    "def generateSTL(fileOut,imageStack,TH=0.0):\n",
    "    # Note: imageStack is the output of the function readStackOfImage\n",
    "    \n",
    "    # Get verticies\n",
    "    v, f = make_meshNew(imageStack,TH)\n",
    "    \n",
    "    # Generate mesh\n",
    "    imageMesh = mesh.Mesh(np.zeros(f.shape[0], dtype=mesh.Mesh.dtype))\n",
    "    \n",
    "    # Connect Vertices\n",
    "    for i, f in enumerate(f):\n",
    "        for j in range(3):\n",
    "            imageMesh.vectors[i][j] = v[f[j],:]\n",
    "        \n",
    "    # Create Mesh    \n",
    "    imageMesh.save(fileOut)    "
   ]
  },
  {
   "cell_type": "code",
   "execution_count": 15,
   "metadata": {},
   "outputs": [],
   "source": [
    "def generateImageStack(imageStack,outFileDir,viewType='axial'): \n",
    "    # ----------------------------------------------------------------------------\n",
    "    # imageStack = is a np array with the format [slice,width,height]\n",
    "    # outFileDir = location where all the images will be saved    \n",
    "    # ----------------------------------------------------------------------------   \n",
    "    \n",
    "    [depth,width,height] = imageStack.shape\n",
    "    \n",
    "    if(viewType=='axial'):\n",
    "        numSlices =  depth\n",
    "    elif(viewType=='coronal'):\n",
    "        numSlices =  width\n",
    "    elif(viewType=='sagittal'):\n",
    "        numSlices =  height\n",
    "    \n",
    "    for sliceInd in xrange(numSlices):\n",
    "        saveImg = getPlanarViewImage(imageStack,sliceInd,viewType=viewType)\n",
    "        scioM.imsave(outFileDir + '{}.jpg'.format(sliceInd), saveImg)\n",
    "    \n",
    "    print('Create the image stack in the folder {}'.format(outFileDir))"
   ]
  },
  {
   "cell_type": "markdown",
   "metadata": {},
   "source": [
    "## Visualization"
   ]
  },
  {
   "cell_type": "code",
   "execution_count": 16,
   "metadata": {},
   "outputs": [],
   "source": [
    "def showTHData(imgStack,sliceInd,th):\n",
    "    # get a slice    \n",
    "    [numSlices,width,height] = imgStack.shape\n",
    "    imgStackSlice = imgStack[sliceInd,:,:].astype(int)\n",
    "\n",
    "    # Threshold slices\n",
    "    sliceColourCode = np.zeros([len(th),width,height])\n",
    "\n",
    "    for thInd in xrange(len(th)):\n",
    "        for w in xrange(width):\n",
    "            for h in xrange(height):            \n",
    "                if imgStackSlice[w,h] != th[thInd]:\n",
    "                    sliceColourCode[thInd,w,h] = 0\n",
    "                else:\n",
    "                    sliceColourCode[thInd,w,h] = th[thInd]\n",
    "\n",
    "    #Plot TH slices\n",
    "    figure(num=None, figsize=(15, 6), dpi=80, facecolor='w', edgecolor='k')\n",
    "    for thInd in xrange(len(th)):\n",
    "        plt.subplot(1,len(th)+1,thInd+1)        \n",
    "        plt.imshow(sliceColourCode[thInd,:,:])\n",
    "        plt.title('TH = {}'.format(thInd+1))   \n",
    "\n",
    "    plt.subplot(1,len(th)+1,len(th)+1)        \n",
    "    plt.imshow(imgStackSlice)\n",
    "\n",
    "    plt.tight_layout()\n",
    "    plt.show()    "
   ]
  },
  {
   "cell_type": "code",
   "execution_count": 17,
   "metadata": {},
   "outputs": [],
   "source": [
    "def plotHistogram(imageStack,indSlice,viewType='axial',cmap='bone'):\n",
    "    \n",
    "    mrImg1 = getPlanarViewImage(imageStack,indSlice,viewType=viewType)\n",
    "    \n",
    "    # show second slice\n",
    "    uniqueBins = (np.unique(mrImg1.astype(int).ravel()))\n",
    "    \n",
    "    # show first slice\n",
    "    plt.subplot(1,2,1)    \n",
    "    plt.set_cmap(cmap)        \n",
    "    plt.imshow(mrImg1)\n",
    "    plt.title('Showing Slice {}'.format(indSlice))\n",
    "    \n",
    "    # show second slice    \n",
    "    plt.subplot(1,2,2)      \n",
    "    plt.hist(mrImg1.ravel(),len(uniqueBins),[0,len(uniqueBins)]); \n",
    "    plt.title('Histogram')\n",
    "    \n",
    "    plt.show()"
   ]
  },
  {
   "cell_type": "code",
   "execution_count": 18,
   "metadata": {},
   "outputs": [],
   "source": [
    "def sitk_show(img, title=None, margin=0.05, dpi=40 ):\n",
    "    # Simple visualization tool to view a single slice\n",
    "    \n",
    "    nda = SimpleITK.GetArrayFromImage(img)\n",
    "    spacing = img.GetSpacing()\n",
    "    figsize = (1 + margin) * nda.shape[0] / dpi, (1 + margin) * nda.shape[1] / dpi\n",
    "    extent = (0, nda.shape[1]*spacing[1], nda.shape[0]*spacing[0], 0)\n",
    "    fig = plt.figure(figsize=figsize, dpi=dpi)\n",
    "    ax = fig.add_axes([margin, margin, 1 - 2*margin, 1 - 2*margin])\n",
    "\n",
    "    plt.set_cmap(\"gray\")\n",
    "    ax.imshow(nda,extent=extent,interpolation=None)\n",
    "    \n",
    "    if title:\n",
    "        plt.title(title)\n",
    "    \n",
    "    plt.show()"
   ]
  },
  {
   "cell_type": "code",
   "execution_count": 19,
   "metadata": {},
   "outputs": [],
   "source": [
    "def resizePlane(mrSlice,w,h):   \n",
    "    # ----------------------------------------------------------------------------\n",
    "    # resizedMRImage = image (np array) you want to resize\n",
    "    # w = value of width\n",
    "    # h = value of height\n",
    "    # ----------------------------------------------------------------------------\n",
    "    resizedMRImage = transform.resize(mrSlice,(w,h),anti_aliasing =True)\n",
    "    return resizedMRImage"
   ]
  },
  {
   "cell_type": "code",
   "execution_count": 20,
   "metadata": {},
   "outputs": [],
   "source": [
    "def getPlanarViewImage(imgStack,indSlice,viewType='axial'):\n",
    "    # ----------------------------------------------------------------------------\n",
    "    # imageStack = is a np array with the format [slice,width,height]\n",
    "    # indSlice = the index of the slice you want to view\n",
    "    # viewType = string specifying planar views, can be 'axial', 'coronal', 'sagittal'     \n",
    "    # ----------------------------------------------------------------------------\n",
    "    [numSlices,width,height] = imgStack.shape    \n",
    "    \n",
    "    if(viewType=='axial'):\n",
    "        mrImage =  imgStack[indSlice,:,:]    \n",
    "    elif(viewType=='coronal'):\n",
    "        mrImage =  np.flipud(imgStack[:,indSlice,:])\n",
    "        mrImage = resizePlane(mrImage,width,height)        \n",
    "    elif(viewType=='sagittal'):\n",
    "        mrImage =  np.flipud(np.fliplr(imgStack[:,:,indSlice]))\n",
    "        mrImage = resizePlane(mrImage,width,height)        \n",
    "    \n",
    "    return mrImage    "
   ]
  },
  {
   "cell_type": "code",
   "execution_count": 21,
   "metadata": {},
   "outputs": [],
   "source": [
    "def showTHMorphFiltering(imgStack,sliceInd,erodeFilter,dilationFilter,th):\n",
    "    # -\n",
    "    # imgStack = mr image stack in the form of  [slice, w,h]\n",
    "    # sliceInd = slice index\n",
    "    # erodeFilter = 2x2 array ex [1,1]\n",
    "    # dilationFilter = 2x2 array ex [2,2]\n",
    "    # th = a single digit array ex [1]\n",
    "    # ------\n",
    "    # get a random slice    \n",
    "    mrSliceSeg = imgStack[sliceInd,:,:]\n",
    "\n",
    "    # get a mask from a threshold    \n",
    "    mrSliceTH = getMask(mrSliceSeg,th)\n",
    "\n",
    "    # apply the morphological filters    \n",
    "    morphImage = applyMorphFilters(mrSliceTH,erodeFilter,dilationFilter)\n",
    "\n",
    "    # shoe the two side by side\n",
    "    plt.figure()\n",
    "    figure(num=None, figsize=(10, 6), dpi=80, facecolor='w', edgecolor='k')\n",
    "    plt.subplot(1,3,1)\n",
    "    plt.imshow(mrSliceSeg)\n",
    "    plt.title('Unprocessed data')\n",
    "    plt.subplot(1,3,2)\n",
    "    plt.imshow(mrSliceTH)\n",
    "    plt.title('Thresholded image')\n",
    "    plt.subplot(1,3,3)\n",
    "    plt.imshow(morphImage)\n",
    "    plt.title('Morphological filters applied')\n",
    "    plt.tight_layout()\n",
    "    plt.show()    "
   ]
  },
  {
   "cell_type": "code",
   "execution_count": 22,
   "metadata": {},
   "outputs": [],
   "source": [
    "def display3Slices(imageStack,arrayIndSlice,viewType='axial',cmap=\"bone\"):\n",
    "    # ----------------------------------------------------------------------------\n",
    "    # imageStack = is a np array with the format [slice,width,height]\n",
    "    # arrayIndSlice = is a an array with 3 ind values no greater than max slice,max width or max height\n",
    "    # viewType = string specifying planar views, can be 'axial', 'coronal', 'sagittal' \n",
    "    # cmap = the most commonly used ones are [\"gray\",'bone','binary','jet', 'gist_ncar','seismic','Set1',]\n",
    "    # ----------------------------------------------------------------------------\n",
    "    [numSlices,width,height] = imageStack.shape\n",
    "    figure(num=None, figsize=(10, 6), dpi=80, facecolor='w', edgecolor='k')\n",
    "    \n",
    "    # show first slice\n",
    "    plt.subplot(1,3,1)    \n",
    "    plt.set_cmap(cmap)    \n",
    "    mrImg1 = getPlanarViewImage(imageStack,arrayIndSlice[0],viewType=viewType)\n",
    "    plt.imshow(mrImg1)\n",
    "    plt.title('Showing Slice {}'.format(arrayIndSlice[0]))\n",
    "    \n",
    "    # show second slice\n",
    "    plt.subplot(1,3,2)    \n",
    "    plt.set_cmap(cmap)    \n",
    "    mrImg1 = getPlanarViewImage(imageStack,arrayIndSlice[1],viewType=viewType)\n",
    "    plt.imshow(mrImg1)\n",
    "    plt.title('Showing Slice {}'.format(arrayIndSlice[1]))\n",
    "    \n",
    "    # show third slice\n",
    "    plt.subplot(1,3,3)    \n",
    "    plt.set_cmap(cmap)    \n",
    "    mrImg1 = getPlanarViewImage(imageStack,arrayIndSlice[2],viewType=viewType)\n",
    "    plt.imshow(mrImg1)\n",
    "    plt.title('Showing Slice {}'.format(arrayIndSlice[2]))\n",
    "    \n",
    "    plt.tight_layout()\n",
    "    plt.show()"
   ]
  },
  {
   "cell_type": "markdown",
   "metadata": {},
   "source": [
    "![planarViews](https://faculty.washington.edu/chudler/gif/slice.gif)"
   ]
  },
  {
   "cell_type": "code",
   "execution_count": 23,
   "metadata": {},
   "outputs": [],
   "source": [
    "def getMaskedColouredMRSlice(mrSlice,labelSlice,TH,colourCode,alpha):\n",
    "    # ----------------------------------------------------------------------------\n",
    "    # Applys colour convention based on label\n",
    "    # labelSlice = labels of the segmentation\n",
    "    # mrSlice =  original MR data    \n",
    "    # colourCode = array which contains the RGB colours for the white,gray,TC1 and TC2\n",
    "    # TH = array which contains the TH colours for the white,gray,TC1 and TC2\n",
    "    # alpha = alpha value to be overlayed\n",
    "    # ----------------------------------------------------------------------------\n",
    "\n",
    "    #Colour mapping\n",
    "    whiteMatterColour = colourCode[0]\n",
    "    grayMatterColour = colourCode[1]\n",
    "    tc1MatterColour = colourCode[2]\n",
    "    tc2MatterColour = colourCode[3]\n",
    "    \n",
    "    imgSlice = np.round(labelSlice).astype(int)\n",
    "    \n",
    "    # get the image\n",
    "    if(mrSlice.max()==0):\n",
    "        mrSlice = mrSlice/0.000001\n",
    "    else:\n",
    "        mrSlice = mrSlice/mrSlice.max()\n",
    "\n",
    "    # Generate mask\n",
    "    rows, cols = imgSlice.shape\n",
    "    color_mask = np.zeros((rows, cols, 3))\n",
    "\n",
    "    for r in xrange(rows):\n",
    "        for c in xrange(cols):         \n",
    "            if(imgSlice[r,c]==TH[0]):    \n",
    "                [rChannel, gChannel, bChannel] =  whiteMatterColour\n",
    "            elif(imgSlice[r,c]==TH[1]):    \n",
    "                [rChannel, gChannel, bChannel] =  grayMatterColour        \n",
    "            elif(imgSlice[r,c]==TH[2]):    \n",
    "                [rChannel, gChannel, bChannel] =  tc1MatterColour\n",
    "            elif(imgSlice[r,c]==TH[3]):    \n",
    "                [rChannel, gChannel, bChannel] =  tc2MatterColour\n",
    "            else:\n",
    "                [rChannel, gChannel, bChannel] =  [0.0,0.0,0.0]\n",
    "            color_mask[r,c] = [rChannel, gChannel, bChannel]  \n",
    "\n",
    "    # Construct RGB version of grey-level image\n",
    "    img_color = np.dstack((mrSlice, mrSlice, mrSlice))\n",
    "\n",
    "    # Apply mask\n",
    "    # Convert the input image and color mask to Hue Saturation Value (HSV)\n",
    "    # colorspace\n",
    "    img_hsv = color.rgb2hsv(img_color)\n",
    "    color_mask_hsv = color.rgb2hsv(color_mask)\n",
    "\n",
    "    # Replace the hue and saturation of the original image\n",
    "    # with that of the color mask\n",
    "    img_hsv[..., 0] = color_mask_hsv[..., 0]\n",
    "    img_hsv[..., 1] = color_mask_hsv[..., 1] * alpha\n",
    "\n",
    "    img_masked = color.hsv2rgb(img_hsv)\n",
    "    \n",
    "    return img_masked"
   ]
  },
  {
   "cell_type": "code",
   "execution_count": 24,
   "metadata": {},
   "outputs": [],
   "source": [
    "def display3SlicesWithMask(labelStack,mrStack,arrayIndSlice,TH,colourCode,alpha,viewType='axial'):\n",
    "    # ----------------------------------------------------------------------------\n",
    "    # Displays the overlay of colours over the desired segmented area\n",
    "    # labelStack = is a np array with the format [slice,width,height] which corresponds to labels\n",
    "    # labelStack = is a np array with the format [slice,width,height] which is the original MR data\n",
    "    # arrayIndSlice = is a an array with 3 ind values no greater than max slice,max width or max height\n",
    "    # viewType = string specifying planar views, can be 'axial', 'coronal', 'sagittal' \n",
    "    # colourCode = array which contains the RGB colours for the white,gray,TC1 and TC2\n",
    "    # TH = array which contains the TH colours for the white,gray,TC1 and TC2\n",
    "    # alpha = alpha value to be overlayed\n",
    "    # ----------------------------------------------------------------------------\n",
    "    [numSlices,width,height] = labelStack.shape\n",
    "    figure(num=None, figsize=(10, 6), dpi=80, facecolor='w', edgecolor='k')\n",
    "    \n",
    "    # show first slice\n",
    "    plt.subplot(1,3,1)           \n",
    "    mrImg1 = getPlanarViewImage(mrStack,arrayIndSlice[0],viewType=viewType)\n",
    "    mrImgLabel1 = getPlanarViewImage(labelStack,arrayIndSlice[0],viewType=viewType)\n",
    "    maskedImg1 = getMaskedColouredMRSlice(mrImg1,mrImgLabel1,TH,colourCode,alpha)\n",
    "    plt.imshow(maskedImg1)\n",
    "    plt.title('Showing Slice {}'.format(arrayIndSlice[0]))\n",
    "    \n",
    "    # show second slice\n",
    "    plt.subplot(1,3,2)        \n",
    "    mrImg2 = getPlanarViewImage(mrStack,arrayIndSlice[1],viewType=viewType)\n",
    "    mrImgLabel2 = getPlanarViewImage(labelStack,arrayIndSlice[1],viewType=viewType)\n",
    "    maskedImg2 = getMaskedColouredMRSlice(mrImg2,mrImgLabel2,TH,colourCode,alpha)\n",
    "    plt.imshow(maskedImg2)    \n",
    "    plt.title('Showing Slice {}'.format(arrayIndSlice[1]))\n",
    "    \n",
    "    # show third slice\n",
    "    plt.subplot(1,3,3)        \n",
    "    mrImg3 = getPlanarViewImage(mrStack,arrayIndSlice[2],viewType=viewType)\n",
    "    mrImgLabel3 = getPlanarViewImage(labelStack,arrayIndSlice[2],viewType=viewType)\n",
    "    maskedImg3 = getMaskedColouredMRSlice(mrImg3,mrImgLabel3,TH,colourCode,alpha)\n",
    "    plt.imshow(maskedImg3)  \n",
    "    plt.title('Showing Slice {}'.format(arrayIndSlice[2]))\n",
    "    \n",
    "    plt.tight_layout()\n",
    "    plt.show()"
   ]
  },
  {
   "cell_type": "markdown",
   "metadata": {},
   "source": [
    "# Parameters"
   ]
  },
  {
   "cell_type": "code",
   "execution_count": 25,
   "metadata": {},
   "outputs": [],
   "source": [
    "inpath = 'C://Cerebral//_MarioSandBox//DB//medicalHolography//human//githubDrRueda-ToicenCourse//t2.dcm'"
   ]
  },
  {
   "cell_type": "code",
   "execution_count": 26,
   "metadata": {},
   "outputs": [],
   "source": [
    "inpathTruth = 'C://Cerebral//_MarioSandBox//DB//medicalHolography//human//githubDrRueda-ToicenCourse//truth.dcm'"
   ]
  },
  {
   "cell_type": "markdown",
   "metadata": {},
   "source": [
    "# Main"
   ]
  },
  {
   "cell_type": "markdown",
   "metadata": {},
   "source": [
    "## Reading and clean the stack"
   ]
  },
  {
   "cell_type": "markdown",
   "metadata": {},
   "source": [
    "### MRI Raw"
   ]
  },
  {
   "cell_type": "code",
   "execution_count": 27,
   "metadata": {},
   "outputs": [],
   "source": [
    "mriStack = readMRIFile(inpath)"
   ]
  },
  {
   "cell_type": "code",
   "execution_count": 28,
   "metadata": {},
   "outputs": [],
   "source": [
    "mriStackSmooth = applySmoothingMRI(mriStack)"
   ]
  },
  {
   "cell_type": "code",
   "execution_count": 29,
   "metadata": {},
   "outputs": [],
   "source": [
    "mriData = convertToNP(mriStackSmooth)"
   ]
  },
  {
   "cell_type": "code",
   "execution_count": 30,
   "metadata": {},
   "outputs": [
    {
     "name": "stdout",
     "output_type": "stream",
     "text": [
      "The data contains 181 slices with the image resolution being 256 x 256\n"
     ]
    }
   ],
   "source": [
    "[numSlices,width,height] = getDataStatistics(mriData)"
   ]
  },
  {
   "cell_type": "markdown",
   "metadata": {},
   "source": [
    "### Stack Generation"
   ]
  },
  {
   "cell_type": "code",
   "execution_count": 31,
   "metadata": {},
   "outputs": [],
   "source": [
    "mriStackSeg = readMRIFile(inpathTruth)"
   ]
  },
  {
   "cell_type": "code",
   "execution_count": 32,
   "metadata": {},
   "outputs": [],
   "source": [
    "mriStackSmoothSeg = applySmoothingMRI(mriStackSeg)"
   ]
  },
  {
   "cell_type": "code",
   "execution_count": 33,
   "metadata": {},
   "outputs": [],
   "source": [
    "mriDataSeg = convertToNP(mriStackSmoothSeg)"
   ]
  },
  {
   "cell_type": "code",
   "execution_count": 34,
   "metadata": {},
   "outputs": [
    {
     "name": "stdout",
     "output_type": "stream",
     "text": [
      "The data contains 181 slices with the image resolution being 256 x 256\n"
     ]
    }
   ],
   "source": [
    "[numSlicesSeg,widthSeg,heightSeg] = getDataStatistics(mriDataSeg)"
   ]
  },
  {
   "cell_type": "code",
   "execution_count": 35,
   "metadata": {},
   "outputs": [
    {
     "name": "stderr",
     "output_type": "stream",
     "text": [
      "C:\\Users\\HP\\Anaconda2\\envs\\py27\\lib\\site-packages\\skimage\\transform\\_warps.py:105: UserWarning: The default mode, 'constant', will be changed to 'reflect' in skimage 0.15.\n",
      "  warn(\"The default mode, 'constant', will be changed to 'reflect' in \"\n"
     ]
    },
    {
     "data": {
      "image/png": "[encoded data removed]",
      "text/plain": [
       "<Figure size 800x480 with 3 Axes>"
      ]
     },
     "metadata": {},
     "output_type": "display_data"
    }
   ],
   "source": [
    "display3Slices(mriData,[height/3+50,height/3*2-20,height-70],viewType='sagittal',cmap=\"gray\")"
   ]
  },
  {
   "cell_type": "code",
   "execution_count": 56,
   "metadata": {},
   "outputs": [],
   "source": [
    "PathDicom = \"C://Cerebral//_MarioSandBox//DB//medicalHolography//imgStacks//Human//sagittalTumor//\"\n",
    "OutFile = PathDicom "
   ]
  },
  {
   "cell_type": "code",
   "execution_count": null,
   "metadata": {},
   "outputs": [],
   "source": [
    "sliceInd = 10\n",
    "sliceImg = np.array(mriData[sliceInd,:,:])"
   ]
  },
  {
   "cell_type": "code",
   "execution_count": 57,
   "metadata": {},
   "outputs": [],
   "source": [
    "for sliceInd in xrange(numSlices):\n",
    "    sliceImg = np.array( mriData[sliceInd,:,:],dtype='uint8')\n",
    "    imageio.imwrite(OutFile + '{}.jpg'.format(sliceInd),sliceImg)"
   ]
  },
  {
   "cell_type": "code",
   "execution_count": 44,
   "metadata": {},
   "outputs": [],
   "source": [
    "figure(num=None, figsize=(10, 6), dpi=80, facecolor='w', edgecolor='k')    \n",
    "# show first slice\n",
    "plt.imshow(sliceImg)\n",
    "plt.axis('off')\n",
    "plt.savefig(OutFile + '{}.jpg'.format(sliceInd), bbox_inches='tight')"
   ]
  },
  {
   "cell_type": "code",
   "execution_count": 63,
   "metadata": {},
   "outputs": [],
   "source": []
  },
  {
   "cell_type": "code",
   "execution_count": 69,
   "metadata": {},
   "outputs": [
    {
     "ename": "KeyboardInterrupt",
     "evalue": "",
     "output_type": "error",
     "traceback": [
      "\u001b[1;31m---------------------------------------------------------------------------\u001b[0m",
      "\u001b[1;31mKeyboardInterrupt\u001b[0m                         Traceback (most recent call last)",
      "\u001b[1;32m<ipython-input-69-99980441cd80>\u001b[0m in \u001b[0;36m<module>\u001b[1;34m()\u001b[0m\n\u001b[0;32m      5\u001b[0m     \u001b[0mplt\u001b[0m\u001b[1;33m.\u001b[0m\u001b[0mimshow\u001b[0m\u001b[1;33m(\u001b[0m\u001b[0msliceImg\u001b[0m\u001b[1;33m)\u001b[0m\u001b[1;33m\u001b[0m\u001b[0m\n\u001b[0;32m      6\u001b[0m     \u001b[0mplt\u001b[0m\u001b[1;33m.\u001b[0m\u001b[0maxis\u001b[0m\u001b[1;33m(\u001b[0m\u001b[1;34m'off'\u001b[0m\u001b[1;33m)\u001b[0m\u001b[1;33m\u001b[0m\u001b[0m\n\u001b[1;32m----> 7\u001b[1;33m     \u001b[0mplt\u001b[0m\u001b[1;33m.\u001b[0m\u001b[0msavefig\u001b[0m\u001b[1;33m(\u001b[0m\u001b[0mOutFile\u001b[0m \u001b[1;33m+\u001b[0m \u001b[1;34m'{}.jpg'\u001b[0m\u001b[1;33m.\u001b[0m\u001b[0mformat\u001b[0m\u001b[1;33m(\u001b[0m\u001b[0msliceInd\u001b[0m\u001b[1;33m)\u001b[0m\u001b[1;33m,\u001b[0m \u001b[0mbbox_inches\u001b[0m\u001b[1;33m=\u001b[0m\u001b[1;34m'tight'\u001b[0m\u001b[1;33m)\u001b[0m\u001b[1;33m\u001b[0m\u001b[0m\n\u001b[0m",
      "\u001b[1;32mC:\\Users\\HP\\Anaconda2\\envs\\py27\\lib\\site-packages\\matplotlib\\pyplot.pyc\u001b[0m in \u001b[0;36msavefig\u001b[1;34m(*args, **kwargs)\u001b[0m\n\u001b[0;32m    694\u001b[0m     \u001b[0mfig\u001b[0m \u001b[1;33m=\u001b[0m \u001b[0mgcf\u001b[0m\u001b[1;33m(\u001b[0m\u001b[1;33m)\u001b[0m\u001b[1;33m\u001b[0m\u001b[0m\n\u001b[0;32m    695\u001b[0m     \u001b[0mres\u001b[0m \u001b[1;33m=\u001b[0m \u001b[0mfig\u001b[0m\u001b[1;33m.\u001b[0m\u001b[0msavefig\u001b[0m\u001b[1;33m(\u001b[0m\u001b[1;33m*\u001b[0m\u001b[0margs\u001b[0m\u001b[1;33m,\u001b[0m \u001b[1;33m**\u001b[0m\u001b[0mkwargs\u001b[0m\u001b[1;33m)\u001b[0m\u001b[1;33m\u001b[0m\u001b[0m\n\u001b[1;32m--> 696\u001b[1;33m     \u001b[0mfig\u001b[0m\u001b[1;33m.\u001b[0m\u001b[0mcanvas\u001b[0m\u001b[1;33m.\u001b[0m\u001b[0mdraw_idle\u001b[0m\u001b[1;33m(\u001b[0m\u001b[1;33m)\u001b[0m   \u001b[1;31m# need this if 'transparent=True' to reset colors\u001b[0m\u001b[1;33m\u001b[0m\u001b[0m\n\u001b[0m\u001b[0;32m    697\u001b[0m     \u001b[1;32mreturn\u001b[0m \u001b[0mres\u001b[0m\u001b[1;33m\u001b[0m\u001b[0m\n\u001b[0;32m    698\u001b[0m \u001b[1;33m\u001b[0m\u001b[0m\n",
      "\u001b[1;32mC:\\Users\\HP\\Anaconda2\\envs\\py27\\lib\\site-packages\\matplotlib\\backend_bases.pyc\u001b[0m in \u001b[0;36mdraw_idle\u001b[1;34m(self, *args, **kwargs)\u001b[0m\n\u001b[0;32m   2053\u001b[0m         \u001b[1;32mif\u001b[0m \u001b[1;32mnot\u001b[0m \u001b[0mself\u001b[0m\u001b[1;33m.\u001b[0m\u001b[0m_is_idle_drawing\u001b[0m\u001b[1;33m:\u001b[0m\u001b[1;33m\u001b[0m\u001b[0m\n\u001b[0;32m   2054\u001b[0m             \u001b[1;32mwith\u001b[0m \u001b[0mself\u001b[0m\u001b[1;33m.\u001b[0m\u001b[0m_idle_draw_cntx\u001b[0m\u001b[1;33m(\u001b[0m\u001b[1;33m)\u001b[0m\u001b[1;33m:\u001b[0m\u001b[1;33m\u001b[0m\u001b[0m\n\u001b[1;32m-> 2055\u001b[1;33m                 \u001b[0mself\u001b[0m\u001b[1;33m.\u001b[0m\u001b[0mdraw\u001b[0m\u001b[1;33m(\u001b[0m\u001b[1;33m*\u001b[0m\u001b[0margs\u001b[0m\u001b[1;33m,\u001b[0m \u001b[1;33m**\u001b[0m\u001b[0mkwargs\u001b[0m\u001b[1;33m)\u001b[0m\u001b[1;33m\u001b[0m\u001b[0m\n\u001b[0m\u001b[0;32m   2056\u001b[0m \u001b[1;33m\u001b[0m\u001b[0m\n\u001b[0;32m   2057\u001b[0m     \u001b[1;32mdef\u001b[0m \u001b[0mdraw_cursor\u001b[0m\u001b[1;33m(\u001b[0m\u001b[0mself\u001b[0m\u001b[1;33m,\u001b[0m \u001b[0mevent\u001b[0m\u001b[1;33m)\u001b[0m\u001b[1;33m:\u001b[0m\u001b[1;33m\u001b[0m\u001b[0m\n",
      "\u001b[1;32mC:\\Users\\HP\\Anaconda2\\envs\\py27\\lib\\site-packages\\matplotlib\\backends\\backend_agg.pyc\u001b[0m in \u001b[0;36mdraw\u001b[1;34m(self)\u001b[0m\n\u001b[0;32m    435\u001b[0m             \u001b[1;31m# if toolbar:\u001b[0m\u001b[1;33m\u001b[0m\u001b[1;33m\u001b[0m\u001b[0m\n\u001b[0;32m    436\u001b[0m             \u001b[1;31m#     toolbar.set_cursor(cursors.WAIT)\u001b[0m\u001b[1;33m\u001b[0m\u001b[1;33m\u001b[0m\u001b[0m\n\u001b[1;32m--> 437\u001b[1;33m             \u001b[0mself\u001b[0m\u001b[1;33m.\u001b[0m\u001b[0mfigure\u001b[0m\u001b[1;33m.\u001b[0m\u001b[0mdraw\u001b[0m\u001b[1;33m(\u001b[0m\u001b[0mself\u001b[0m\u001b[1;33m.\u001b[0m\u001b[0mrenderer\u001b[0m\u001b[1;33m)\u001b[0m\u001b[1;33m\u001b[0m\u001b[0m\n\u001b[0m\u001b[0;32m    438\u001b[0m             \u001b[1;31m# A GUI class may be need to update a window using this draw, so\u001b[0m\u001b[1;33m\u001b[0m\u001b[1;33m\u001b[0m\u001b[0m\n\u001b[0;32m    439\u001b[0m             \u001b[1;31m# don't forget to call the superclass.\u001b[0m\u001b[1;33m\u001b[0m\u001b[1;33m\u001b[0m\u001b[0m\n",
      "\u001b[1;32mC:\\Users\\HP\\Anaconda2\\envs\\py27\\lib\\site-packages\\matplotlib\\artist.pyc\u001b[0m in \u001b[0;36mdraw_wrapper\u001b[1;34m(artist, renderer, *args, **kwargs)\u001b[0m\n\u001b[0;32m     53\u001b[0m                 \u001b[0mrenderer\u001b[0m\u001b[1;33m.\u001b[0m\u001b[0mstart_filter\u001b[0m\u001b[1;33m(\u001b[0m\u001b[1;33m)\u001b[0m\u001b[1;33m\u001b[0m\u001b[0m\n\u001b[0;32m     54\u001b[0m \u001b[1;33m\u001b[0m\u001b[0m\n\u001b[1;32m---> 55\u001b[1;33m             \u001b[1;32mreturn\u001b[0m \u001b[0mdraw\u001b[0m\u001b[1;33m(\u001b[0m\u001b[0martist\u001b[0m\u001b[1;33m,\u001b[0m \u001b[0mrenderer\u001b[0m\u001b[1;33m,\u001b[0m \u001b[1;33m*\u001b[0m\u001b[0margs\u001b[0m\u001b[1;33m,\u001b[0m \u001b[1;33m**\u001b[0m\u001b[0mkwargs\u001b[0m\u001b[1;33m)\u001b[0m\u001b[1;33m\u001b[0m\u001b[0m\n\u001b[0m\u001b[0;32m     56\u001b[0m         \u001b[1;32mfinally\u001b[0m\u001b[1;33m:\u001b[0m\u001b[1;33m\u001b[0m\u001b[0m\n\u001b[0;32m     57\u001b[0m             \u001b[1;32mif\u001b[0m \u001b[0martist\u001b[0m\u001b[1;33m.\u001b[0m\u001b[0mget_agg_filter\u001b[0m\u001b[1;33m(\u001b[0m\u001b[1;33m)\u001b[0m \u001b[1;32mis\u001b[0m \u001b[1;32mnot\u001b[0m \u001b[0mNone\u001b[0m\u001b[1;33m:\u001b[0m\u001b[1;33m\u001b[0m\u001b[0m\n",
      "\u001b[1;32mC:\\Users\\HP\\Anaconda2\\envs\\py27\\lib\\site-packages\\matplotlib\\figure.pyc\u001b[0m in \u001b[0;36mdraw\u001b[1;34m(self, renderer)\u001b[0m\n\u001b[0;32m   1491\u001b[0m \u001b[1;33m\u001b[0m\u001b[0m\n\u001b[0;32m   1492\u001b[0m             mimage._draw_list_compositing_images(\n\u001b[1;32m-> 1493\u001b[1;33m                 renderer, self, artists, self.suppressComposite)\n\u001b[0m\u001b[0;32m   1494\u001b[0m \u001b[1;33m\u001b[0m\u001b[0m\n\u001b[0;32m   1495\u001b[0m             \u001b[0mrenderer\u001b[0m\u001b[1;33m.\u001b[0m\u001b[0mclose_group\u001b[0m\u001b[1;33m(\u001b[0m\u001b[1;34m'figure'\u001b[0m\u001b[1;33m)\u001b[0m\u001b[1;33m\u001b[0m\u001b[0m\n",
      "\u001b[1;32mC:\\Users\\HP\\Anaconda2\\envs\\py27\\lib\\site-packages\\matplotlib\\image.pyc\u001b[0m in \u001b[0;36m_draw_list_compositing_images\u001b[1;34m(renderer, parent, artists, suppress_composite)\u001b[0m\n\u001b[0;32m    139\u001b[0m     \u001b[1;32mif\u001b[0m \u001b[0mnot_composite\u001b[0m \u001b[1;32mor\u001b[0m \u001b[1;32mnot\u001b[0m \u001b[0mhas_images\u001b[0m\u001b[1;33m:\u001b[0m\u001b[1;33m\u001b[0m\u001b[0m\n\u001b[0;32m    140\u001b[0m         \u001b[1;32mfor\u001b[0m \u001b[0ma\u001b[0m \u001b[1;32min\u001b[0m \u001b[0martists\u001b[0m\u001b[1;33m:\u001b[0m\u001b[1;33m\u001b[0m\u001b[0m\n\u001b[1;32m--> 141\u001b[1;33m             \u001b[0ma\u001b[0m\u001b[1;33m.\u001b[0m\u001b[0mdraw\u001b[0m\u001b[1;33m(\u001b[0m\u001b[0mrenderer\u001b[0m\u001b[1;33m)\u001b[0m\u001b[1;33m\u001b[0m\u001b[0m\n\u001b[0m\u001b[0;32m    142\u001b[0m     \u001b[1;32melse\u001b[0m\u001b[1;33m:\u001b[0m\u001b[1;33m\u001b[0m\u001b[0m\n\u001b[0;32m    143\u001b[0m         \u001b[1;31m# Composite any adjacent images together\u001b[0m\u001b[1;33m\u001b[0m\u001b[1;33m\u001b[0m\u001b[0m\n",
      "\u001b[1;32mC:\\Users\\HP\\Anaconda2\\envs\\py27\\lib\\site-packages\\matplotlib\\artist.pyc\u001b[0m in \u001b[0;36mdraw_wrapper\u001b[1;34m(artist, renderer, *args, **kwargs)\u001b[0m\n\u001b[0;32m     53\u001b[0m                 \u001b[0mrenderer\u001b[0m\u001b[1;33m.\u001b[0m\u001b[0mstart_filter\u001b[0m\u001b[1;33m(\u001b[0m\u001b[1;33m)\u001b[0m\u001b[1;33m\u001b[0m\u001b[0m\n\u001b[0;32m     54\u001b[0m \u001b[1;33m\u001b[0m\u001b[0m\n\u001b[1;32m---> 55\u001b[1;33m             \u001b[1;32mreturn\u001b[0m \u001b[0mdraw\u001b[0m\u001b[1;33m(\u001b[0m\u001b[0martist\u001b[0m\u001b[1;33m,\u001b[0m \u001b[0mrenderer\u001b[0m\u001b[1;33m,\u001b[0m \u001b[1;33m*\u001b[0m\u001b[0margs\u001b[0m\u001b[1;33m,\u001b[0m \u001b[1;33m**\u001b[0m\u001b[0mkwargs\u001b[0m\u001b[1;33m)\u001b[0m\u001b[1;33m\u001b[0m\u001b[0m\n\u001b[0m\u001b[0;32m     56\u001b[0m         \u001b[1;32mfinally\u001b[0m\u001b[1;33m:\u001b[0m\u001b[1;33m\u001b[0m\u001b[0m\n\u001b[0;32m     57\u001b[0m             \u001b[1;32mif\u001b[0m \u001b[0martist\u001b[0m\u001b[1;33m.\u001b[0m\u001b[0mget_agg_filter\u001b[0m\u001b[1;33m(\u001b[0m\u001b[1;33m)\u001b[0m \u001b[1;32mis\u001b[0m \u001b[1;32mnot\u001b[0m \u001b[0mNone\u001b[0m\u001b[1;33m:\u001b[0m\u001b[1;33m\u001b[0m\u001b[0m\n",
      "\u001b[1;32mC:\\Users\\HP\\Anaconda2\\envs\\py27\\lib\\site-packages\\matplotlib\\axes\\_base.pyc\u001b[0m in \u001b[0;36mdraw\u001b[1;34m(self, renderer, inframe)\u001b[0m\n\u001b[0;32m   2633\u001b[0m             \u001b[0mrenderer\u001b[0m\u001b[1;33m.\u001b[0m\u001b[0mstop_rasterizing\u001b[0m\u001b[1;33m(\u001b[0m\u001b[1;33m)\u001b[0m\u001b[1;33m\u001b[0m\u001b[0m\n\u001b[0;32m   2634\u001b[0m \u001b[1;33m\u001b[0m\u001b[0m\n\u001b[1;32m-> 2635\u001b[1;33m         \u001b[0mmimage\u001b[0m\u001b[1;33m.\u001b[0m\u001b[0m_draw_list_compositing_images\u001b[0m\u001b[1;33m(\u001b[0m\u001b[0mrenderer\u001b[0m\u001b[1;33m,\u001b[0m \u001b[0mself\u001b[0m\u001b[1;33m,\u001b[0m \u001b[0martists\u001b[0m\u001b[1;33m)\u001b[0m\u001b[1;33m\u001b[0m\u001b[0m\n\u001b[0m\u001b[0;32m   2636\u001b[0m \u001b[1;33m\u001b[0m\u001b[0m\n\u001b[0;32m   2637\u001b[0m         \u001b[0mrenderer\u001b[0m\u001b[1;33m.\u001b[0m\u001b[0mclose_group\u001b[0m\u001b[1;33m(\u001b[0m\u001b[1;34m'axes'\u001b[0m\u001b[1;33m)\u001b[0m\u001b[1;33m\u001b[0m\u001b[0m\n",
      "\u001b[1;32mC:\\Users\\HP\\Anaconda2\\envs\\py27\\lib\\site-packages\\matplotlib\\image.pyc\u001b[0m in \u001b[0;36m_draw_list_compositing_images\u001b[1;34m(renderer, parent, artists, suppress_composite)\u001b[0m\n\u001b[0;32m    139\u001b[0m     \u001b[1;32mif\u001b[0m \u001b[0mnot_composite\u001b[0m \u001b[1;32mor\u001b[0m \u001b[1;32mnot\u001b[0m \u001b[0mhas_images\u001b[0m\u001b[1;33m:\u001b[0m\u001b[1;33m\u001b[0m\u001b[0m\n\u001b[0;32m    140\u001b[0m         \u001b[1;32mfor\u001b[0m \u001b[0ma\u001b[0m \u001b[1;32min\u001b[0m \u001b[0martists\u001b[0m\u001b[1;33m:\u001b[0m\u001b[1;33m\u001b[0m\u001b[0m\n\u001b[1;32m--> 141\u001b[1;33m             \u001b[0ma\u001b[0m\u001b[1;33m.\u001b[0m\u001b[0mdraw\u001b[0m\u001b[1;33m(\u001b[0m\u001b[0mrenderer\u001b[0m\u001b[1;33m)\u001b[0m\u001b[1;33m\u001b[0m\u001b[0m\n\u001b[0m\u001b[0;32m    142\u001b[0m     \u001b[1;32melse\u001b[0m\u001b[1;33m:\u001b[0m\u001b[1;33m\u001b[0m\u001b[0m\n\u001b[0;32m    143\u001b[0m         \u001b[1;31m# Composite any adjacent images together\u001b[0m\u001b[1;33m\u001b[0m\u001b[1;33m\u001b[0m\u001b[0m\n",
      "\u001b[1;32mC:\\Users\\HP\\Anaconda2\\envs\\py27\\lib\\site-packages\\matplotlib\\artist.pyc\u001b[0m in \u001b[0;36mdraw_wrapper\u001b[1;34m(artist, renderer, *args, **kwargs)\u001b[0m\n\u001b[0;32m     53\u001b[0m                 \u001b[0mrenderer\u001b[0m\u001b[1;33m.\u001b[0m\u001b[0mstart_filter\u001b[0m\u001b[1;33m(\u001b[0m\u001b[1;33m)\u001b[0m\u001b[1;33m\u001b[0m\u001b[0m\n\u001b[0;32m     54\u001b[0m \u001b[1;33m\u001b[0m\u001b[0m\n\u001b[1;32m---> 55\u001b[1;33m             \u001b[1;32mreturn\u001b[0m \u001b[0mdraw\u001b[0m\u001b[1;33m(\u001b[0m\u001b[0martist\u001b[0m\u001b[1;33m,\u001b[0m \u001b[0mrenderer\u001b[0m\u001b[1;33m,\u001b[0m \u001b[1;33m*\u001b[0m\u001b[0margs\u001b[0m\u001b[1;33m,\u001b[0m \u001b[1;33m**\u001b[0m\u001b[0mkwargs\u001b[0m\u001b[1;33m)\u001b[0m\u001b[1;33m\u001b[0m\u001b[0m\n\u001b[0m\u001b[0;32m     56\u001b[0m         \u001b[1;32mfinally\u001b[0m\u001b[1;33m:\u001b[0m\u001b[1;33m\u001b[0m\u001b[0m\n\u001b[0;32m     57\u001b[0m             \u001b[1;32mif\u001b[0m \u001b[0martist\u001b[0m\u001b[1;33m.\u001b[0m\u001b[0mget_agg_filter\u001b[0m\u001b[1;33m(\u001b[0m\u001b[1;33m)\u001b[0m \u001b[1;32mis\u001b[0m \u001b[1;32mnot\u001b[0m \u001b[0mNone\u001b[0m\u001b[1;33m:\u001b[0m\u001b[1;33m\u001b[0m\u001b[0m\n",
      "\u001b[1;32mC:\\Users\\HP\\Anaconda2\\envs\\py27\\lib\\site-packages\\matplotlib\\image.pyc\u001b[0m in \u001b[0;36mdraw\u001b[1;34m(self, renderer, *args, **kwargs)\u001b[0m\n\u001b[0;32m    592\u001b[0m         \u001b[1;32melse\u001b[0m\u001b[1;33m:\u001b[0m\u001b[1;33m\u001b[0m\u001b[0m\n\u001b[0;32m    593\u001b[0m             im, l, b, trans = self.make_image(\n\u001b[1;32m--> 594\u001b[1;33m                 renderer, renderer.get_image_magnification())\n\u001b[0m\u001b[0;32m    595\u001b[0m             \u001b[1;32mif\u001b[0m \u001b[0mim\u001b[0m \u001b[1;32mis\u001b[0m \u001b[1;32mnot\u001b[0m \u001b[0mNone\u001b[0m\u001b[1;33m:\u001b[0m\u001b[1;33m\u001b[0m\u001b[0m\n\u001b[0;32m    596\u001b[0m                 \u001b[0mrenderer\u001b[0m\u001b[1;33m.\u001b[0m\u001b[0mdraw_image\u001b[0m\u001b[1;33m(\u001b[0m\u001b[0mgc\u001b[0m\u001b[1;33m,\u001b[0m \u001b[0ml\u001b[0m\u001b[1;33m,\u001b[0m \u001b[0mb\u001b[0m\u001b[1;33m,\u001b[0m \u001b[0mim\u001b[0m\u001b[1;33m)\u001b[0m\u001b[1;33m\u001b[0m\u001b[0m\n",
      "\u001b[1;32mC:\\Users\\HP\\Anaconda2\\envs\\py27\\lib\\site-packages\\matplotlib\\image.pyc\u001b[0m in \u001b[0;36mmake_image\u001b[1;34m(self, renderer, magnification, unsampled)\u001b[0m\n\u001b[0;32m    840\u001b[0m         return self._make_image(\n\u001b[0;32m    841\u001b[0m             \u001b[0mself\u001b[0m\u001b[1;33m.\u001b[0m\u001b[0m_A\u001b[0m\u001b[1;33m,\u001b[0m \u001b[0mbbox\u001b[0m\u001b[1;33m,\u001b[0m \u001b[0mtransformed_bbox\u001b[0m\u001b[1;33m,\u001b[0m \u001b[0mself\u001b[0m\u001b[1;33m.\u001b[0m\u001b[0maxes\u001b[0m\u001b[1;33m.\u001b[0m\u001b[0mbbox\u001b[0m\u001b[1;33m,\u001b[0m \u001b[0mmagnification\u001b[0m\u001b[1;33m,\u001b[0m\u001b[1;33m\u001b[0m\u001b[0m\n\u001b[1;32m--> 842\u001b[1;33m             unsampled=unsampled)\n\u001b[0m\u001b[0;32m    843\u001b[0m \u001b[1;33m\u001b[0m\u001b[0m\n\u001b[0;32m    844\u001b[0m     \u001b[1;32mdef\u001b[0m \u001b[0m_check_unsampled_image\u001b[0m\u001b[1;33m(\u001b[0m\u001b[0mself\u001b[0m\u001b[1;33m,\u001b[0m \u001b[0mrenderer\u001b[0m\u001b[1;33m)\u001b[0m\u001b[1;33m:\u001b[0m\u001b[1;33m\u001b[0m\u001b[0m\n",
      "\u001b[1;32mC:\\Users\\HP\\Anaconda2\\envs\\py27\\lib\\site-packages\\matplotlib\\image.pyc\u001b[0m in \u001b[0;36m_make_image\u001b[1;34m(self, A, in_bbox, out_bbox, clip_bbox, magnification, unsampled, round_to_pixel_border)\u001b[0m\n\u001b[0;32m    484\u001b[0m \u001b[1;33m\u001b[0m\u001b[0m\n\u001b[0;32m    485\u001b[0m                 \u001b[0mout_alpha\u001b[0m \u001b[1;33m=\u001b[0m \u001b[0mnp\u001b[0m\u001b[1;33m.\u001b[0m\u001b[0marray\u001b[0m\u001b[1;33m(\u001b[0m\u001b[0mout_mask\u001b[0m\u001b[1;33m)\u001b[0m\u001b[1;33m\u001b[0m\u001b[0m\n\u001b[1;32m--> 486\u001b[1;33m                 \u001b[0mout_mask\u001b[0m \u001b[1;33m=\u001b[0m \u001b[0mnp\u001b[0m\u001b[1;33m.\u001b[0m\u001b[0misnan\u001b[0m\u001b[1;33m(\u001b[0m\u001b[0mout_mask\u001b[0m\u001b[1;33m)\u001b[0m\u001b[1;33m\u001b[0m\u001b[0m\n\u001b[0m\u001b[0;32m    487\u001b[0m                 \u001b[0mout_alpha\u001b[0m\u001b[1;33m[\u001b[0m\u001b[0mout_mask\u001b[0m\u001b[1;33m]\u001b[0m \u001b[1;33m=\u001b[0m \u001b[1;36m1\u001b[0m\u001b[1;33m\u001b[0m\u001b[0m\n\u001b[0;32m    488\u001b[0m \u001b[1;33m\u001b[0m\u001b[0m\n",
      "\u001b[1;31mKeyboardInterrupt\u001b[0m: "
     ]
    },
    {
     "data": {
      "image/png": "[encoded data removed]",
      "text/plain": [
       "<Figure size 3000x1800 with 1 Axes>"
      ]
     },
     "metadata": {},
     "output_type": "display_data"
    }
   ],
   "source": [
    "figure(num=None, figsize=(10, 6), dpi=300, facecolor='w', edgecolor='k')    \n",
    "for sliceInd in xrange(numSlices):\n",
    "    sliceImg = np.array( mriData[sliceInd,:,:])\n",
    "    \n",
    "    plt.imshow(sliceImg)\n",
    "    plt.axis('off')\n",
    "    plt.savefig(OutFile + '{}.jpg'.format(sliceInd), bbox_inches='tight')"
   ]
  },
  {
   "cell_type": "code",
   "execution_count": null,
   "metadata": {},
   "outputs": [],
   "source": []
  }
 ],
 "metadata": {
  "kernelspec": {
   "display_name": "Python 2",
   "language": "python",
   "name": "python2"
  },
  "language_info": {
   "codemirror_mode": {
    "name": "ipython",
    "version": 2
   },
   "file_extension": ".py",
   "mimetype": "text/x-python",
   "name": "python",
   "nbconvert_exporter": "python",
   "pygments_lexer": "ipython2",
   "version": "2.7.15"
  },
  "latex_envs": {
   "LaTeX_envs_menu_present": true,
   "autoclose": false,
   "autocomplete": true,
   "bibliofile": "biblio.bib",
   "cite_by": "apalike",
   "current_citInitial": 1,
   "eqLabelWithNumbers": true,
   "eqNumInitial": 1,
   "hotkeys": {
    "equation": "Ctrl-E",
    "itemize": "Ctrl-I"
   },
   "labels_anchors": false,
   "latex_user_defs": false,
   "report_style_numbering": false,
   "user_envs_cfg": false
  }
 },
 "nbformat": 4,
 "nbformat_minor": 2
}
